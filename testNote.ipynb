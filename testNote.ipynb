{
 "metadata": {
  "language_info": {
   "codemirror_mode": {
    "name": "ipython",
    "version": 3
   },
   "file_extension": ".py",
   "mimetype": "text/x-python",
   "name": "python",
   "nbconvert_exporter": "python",
   "pygments_lexer": "ipython3",
   "version": "3.8.5"
  },
  "orig_nbformat": 2,
  "kernelspec": {
   "name": "python385jvsc74a57bd00d09d8117317f07a100d5d8d4992859d56da3d14cf38f4377f86f3357b09f8d2",
   "display_name": "Python 3.8.5 64-bit ('base': conda)"
  }
 },
 "nbformat": 4,
 "nbformat_minor": 2,
 "cells": [
  {
   "cell_type": "code",
   "execution_count": 36,
   "metadata": {},
   "outputs": [],
   "source": [
    "\n",
    "import pandas as pd\n",
    "import numpy as np\n",
    "import matplotlib.pyplot as plt\n",
    "import math\n"
   ]
  },
  {
   "cell_type": "code",
   "execution_count": 63,
   "metadata": {},
   "outputs": [],
   "source": [
    "\n",
    "df = pd.read_csv('./ml_task_data.csv')\n",
    "df['CompletionDate'] = pd.to_datetime(df.CompletionDate)\n",
    "df['CompletionDate'] = df['CompletionDate'].dt.strftime('%Y')\n",
    "\n",
    "df['SpudDate'] = pd.to_datetime(df.SpudDate)\n",
    "df['SpudDate'] = df['SpudDate'].dt.strftime('%Y')\n",
    "\n",
    "df.dropna(how='all', subset=['SpudDate', 'CompletionDate'], inplace=True)"
   ]
  },
  {
   "cell_type": "code",
   "execution_count": 64,
   "metadata": {},
   "outputs": [],
   "source": [
    "\n",
    "basin_compdate_grouped = df.groupby([\"Basin\", \"CompletionDate\"])\n",
    "basin_grouped = df.groupby([\"Basin\"])\n",
    "state_grouped = df.groupby([\"State\"])\n",
    "spud_date_grouped = df.groupby(['SpudDate'])\n"
   ]
  },
  {
   "cell_type": "code",
   "execution_count": 65,
   "metadata": {},
   "outputs": [],
   "source": [
    "\n",
    "for key, item in spud_date_grouped:\n",
    "    df.loc[(df['SpudDate'] == key), 'CompletionDate'] = item['CompletionDate'].fillna(item['CompletionDate'].mode()[0])\n"
   ]
  },
  {
   "cell_type": "code",
   "execution_count": 66,
   "metadata": {},
   "outputs": [],
   "source": [
    "\n",
    "for key, item in state_grouped:\n",
    "    state = key\n",
    "\n",
    "    # print(key)\n",
    "    # current_group = df.loc[(df[\"Basin\"] == basin) & (df[\"CompletionDate\"] == compdate)]\n",
    "    \n",
    "    basin_mode = item[\"Basin\"].mode()[0]\n",
    "    # print(basin_mode)\n",
    "    # Updating basin nan values\n",
    "    df.loc[(df[\"State\"] == state), \"Basin\"] = item[\"Basin\"].fillna(basin_mode)\n",
    "    "
   ]
  },
  {
   "cell_type": "code",
   "execution_count": 67,
   "metadata": {},
   "outputs": [],
   "source": [
    "for key, item in basin_grouped:\n",
    "    basin = key\n",
    "\n",
    "    # print(key)\n",
    "    # current_group = df.loc[(df[\"Basin\"] == basin) & (df[\"CompletionDate\"] == compdate)]\n",
    "    \n",
    "    state_mode = item[\"State\"].mode()[0]\n",
    "    # print(basin_mode)\n",
    "    # Updating basin nan values\n",
    "    df.loc[(df[\"Basin\"] == basin), \"State\"] = item[\"State\"].fillna(state_mode)\n",
    "\n",
    "    df.loc[(df[\"Basin\"] == basin), \"Latitude\"] = item[\"Latitude\"].fillna(item[\"Latitude\"].median())\n",
    "    df.loc[(df[\"Basin\"] == basin), \"Longitude\"] = item[\"Longitude\"].fillna(item[\"Longitude\"].median())\n",
    "\n"
   ]
  },
  {
   "cell_type": "code",
   "execution_count": 68,
   "metadata": {},
   "outputs": [],
   "source": [
    "\n",
    "for key, item in basin_compdate_grouped:\n",
    "    basin = key[0]\n",
    "    compdate = key[1]\n",
    "\n",
    "    # current_group = df.loc[(df[\"Basin\"] == basin) & (df[\"CompletionDate\"] == compdate)]\n",
    "    bvhh_median = item[\"BVHH\"].median()\n",
    "    lat_length_in_miles_median = item['LateralLengthInMiles'].median()\n",
    "\n",
    "    if math.isnan(bvhh_median):\n",
    "        bvhh_median = df.loc[(df[\"Basin\"] == basin)][\"BVHH\"].median()\n",
    "    \n",
    "    if math.isnan(bvhh_median):\n",
    "        bvhh_median = df.loc[(df[\"CompletionDate\"] == compdate)][\"BVHH\"].median()\n",
    "    \n",
    "    if math.isnan(bvhh_median):\n",
    "        bvhh_median = df[\"BVHH\"].median()\n",
    "\n",
    "    if math.isnan(bvhh_median):\n",
    "        bvhh_median = 1\n",
    "\n",
    "\n",
    "    if math.isnan(lat_length_in_miles_median):\n",
    "        lat_length_in_miles_median = df.loc[(df[\"Basin\"] == basin)][\"LateralLengthInMiles\"].median()\n",
    "    \n",
    "    if math.isnan(lat_length_in_miles_median):\n",
    "        lat_length_in_miles_median = df.loc[(df[\"CompletionDate\"] == compdate)][\"LateralLengthInMiles\"].median()\n",
    "    \n",
    "    if math.isnan(lat_length_in_miles_median):\n",
    "        lat_length_in_miles_median = df[\"LateralLengthInMiles\"].median()\n",
    "\n",
    "    if math.isnan(lat_length_in_miles_median):\n",
    "        lat_length_in_miles_median = 0.75\n",
    "\n",
    "    \n",
    "    # Updating bvhh nan values\n",
    "    df.loc[(df[\"Basin\"] == basin) & (df[\"CompletionDate\"] == compdate), \"BVHH\"] = item['BVHH'].fillna(bvhh_median)\n",
    "\n",
    "    # Updating LateralLengthInMiles nan values\n",
    "    df.loc[(df[\"Basin\"] == basin) & (df[\"CompletionDate\"] == compdate), \"LateralLengthInMiles\"] = item['LateralLengthInMiles'].fillna(lat_length_in_miles_median)\n",
    "    \n"
   ]
  },
  {
   "cell_type": "code",
   "execution_count": 69,
   "metadata": {},
   "outputs": [],
   "source": [
    "state_grouped = df.groupby([\"State\"])\n",
    "\n",
    "for key, item in state_grouped:\n",
    "    state = key\n",
    "    \n",
    "    formation_alias_mode_arr = item['formationAlias'].mode()\n",
    "    \n",
    "    if len(formation_alias_mode_arr) == 0: # check if mode is nan\n",
    "        formation_alias_mode = df[\"formationAlias\"].mode()\n",
    "\n",
    "    df.loc[(df['State'] == state), 'formationAlias'] = item['formationAlias'].fillna(formation_alias_mode[0])\n"
   ]
  },
  {
   "cell_type": "code",
   "execution_count": 70,
   "metadata": {},
   "outputs": [
    {
     "output_type": "execute_result",
     "data": {
      "text/plain": [
       "Basin                      5\n",
       "State                      5\n",
       "Latitude                   0\n",
       "Longitude                  0\n",
       "PadName                  402\n",
       "SpudDate                 511\n",
       "CompletionDate             0\n",
       "OperatorAlias           2203\n",
       "formationAlias             0\n",
       "LateralLengthInMiles       0\n",
       "BVHH                       1\n",
       "proppantPerFoot            0\n",
       "dtype: int64"
      ]
     },
     "metadata": {},
     "execution_count": 70
    }
   ],
   "source": [
    "df.isnull().sum(axis = 0)"
   ]
  },
  {
   "cell_type": "code",
   "execution_count": 73,
   "metadata": {},
   "outputs": [
    {
     "output_type": "execute_result",
     "data": {
      "text/plain": [
       "Basin                   51464\n",
       "State                   51464\n",
       "Latitude                51468\n",
       "Longitude               51468\n",
       "PadName                 51066\n",
       "SpudDate                50957\n",
       "CompletionDate          51468\n",
       "OperatorAlias           49265\n",
       "formationAlias          51468\n",
       "LateralLengthInMiles    51468\n",
       "BVHH                    51468\n",
       "proppantPerFoot         51468\n",
       "dtype: int64"
      ]
     },
     "metadata": {},
     "execution_count": 73
    }
   ],
   "source": [
    "# Features -> Latitude, formationAlias, BVHH\n",
    "df.dropna(how='any', subset=['BVHH', 'formationAlias', 'Latitude'], inplace=True) # drop rows where any of the chosen features are nan\n",
    "\n",
    "df.count()"
   ]
  },
  {
   "cell_type": "code",
   "execution_count": null,
   "metadata": {},
   "outputs": [],
   "source": []
  }
 ]
}